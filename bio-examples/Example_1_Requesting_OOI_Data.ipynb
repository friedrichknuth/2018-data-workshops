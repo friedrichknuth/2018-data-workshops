{
  "nbformat": 4,
  "nbformat_minor": 0,
  "metadata": {
    "colab": {
      "name": "Example 1 - Requesting OOI Data.ipynb",
      "version": "0.3.2",
      "views": {},
      "default_view": {},
      "provenance": [],
      "toc_visible": true
    },
    "kernelspec": {
      "display_name": "ooi",
      "language": "python",
      "name": "ooi"
    }
  },
  "cells": [
    {
      "metadata": {
        "id": "u7WGLvWCtFxH",
        "colab_type": "text"
      },
      "cell_type": "markdown",
      "source": [
        "# Example 1 - Requesting OOI Data in NetCDF Format\n",
        "*Written by Sage Lichtenwalner, Rutgers University, June 14, 2018*\n",
        "\n",
        "In this example, we will demonstrate how to use the OOI M2M interface (also known as the OOI API) to:\n",
        "* retrieve information about the instruments in the OOI database and\n",
        "* request downloadable files for an instrument.\n",
        "\n",
        "For this example, I'm going to use my favorite instrument, the [30m CTD on Global Papa Flanking Mooring B](http://ooi.visualocean.net/instruments/view/GP03FLMB-RIM01-02-CTDMOG060). Check out the link to the Data Team's Portal to find out more information about this instrument."
      ]
    },
    {
      "metadata": {
        "id": "z26K0nG3a0FJ",
        "colab_type": "text",
        "slideshow": {
          "slide_type": "slide"
        }
      },
      "cell_type": "markdown",
      "source": [
        "# Getting Started with the API\n",
        "\n",
        "In order to use the API, you will need to have an OOI Net account, that is, an account on the [OOI Data Portal](https://ooinet.oceanobservatories.org).  Once you have an account, you will need your API Username and Token.  To get your API information, follow the steps below, or check out this [video](https://www.youtube.com/watch?time_continue=150&v=9YSIrDu4l24).\n",
        "\n",
        "1. If needed, create a new account on ooinet.oceanobservatories.org.\n",
        "  * You can use either your email address or the CILogon option with your university or Google account.\n",
        "2. Log in\n",
        "3. Click on your email address on the right side of the navigation bar to open up the pull-down menu.\n",
        "4. Click on the \"User Profile\" in the drop down.\n",
        "5. Copy and save the following data from your user profile: API Username and API Token. \n",
        "  * The API Username is similar to “OOIAPI-QTULEV4STGAS35”. \n",
        "  * The API Token is similar to “YYP2X2W3SOW”.\n",
        "\n",
        "For this example, we will include the API login information as variables so we can use them later.\n"
      ]
    },
    {
      "metadata": {
        "id": "LzHmTswaa3wI",
        "colab_type": "code",
        "slideshow": {
          "slide_type": "slide"
        },
        "colab": {
          "autoexec": {
            "startup": false,
            "wait_interval": 0
          }
        }
      },
      "cell_type": "code",
      "source": [
        "USERNAME = 'YOUR API USERNAME'\n",
        "TOKEN =  'YOUR API TOKEN'"
      ],
      "execution_count": 0,
      "outputs": []
    },
    {
      "metadata": {
        "id": "x9FzjFCfKZCF",
        "colab_type": "text",
        "slideshow": {
          "slide_type": "slide"
        }
      },
      "cell_type": "markdown",
      "source": [
        "We will also add a few Python libraries that we will need in our environment"
      ]
    },
    {
      "metadata": {
        "id": "xnc8KZTuvCfZ",
        "colab_type": "code",
        "colab": {
          "autoexec": {
            "startup": false,
            "wait_interval": 0
          }
        }
      },
      "cell_type": "code",
      "source": [
        "# First, we need to add some more Python libraries\n",
        "import requests\n",
        "import datetime\n",
        "import time"
      ],
      "execution_count": 0,
      "outputs": []
    },
    {
      "metadata": {
        "id": "oRHcknZLIoh7",
        "colab_type": "text",
        "slideshow": {
          "slide_type": "slide"
        }
      },
      "cell_type": "markdown",
      "source": [
        "To access the OOI API, we will use the [python requests library](http://docs.python-requests.org/en/master/), which is very easy to use.  Here is the basic command format.\n",
        "\n",
        "> `r = requests.get(url, params=parameters, auth=('user', 'pass'))`\n",
        "\n",
        "All we have to do is specify the URL we want to access, along with our login information.  \n",
        "\n",
        "In some cases, we will also include an additional set of optional parameters using the \"params\" option.  These \"GET\" parameters are typically found at the end of a URL.  \n",
        "> `http://example.com/page.htm?var1=a&var2=b`\n",
        "\n",
        "In this example, var1 and var2 are GET parameters.  Thanks to the requests library, we don't have to worry about getting all the question marks and ampersands in the right places, we can just specify these as part of an array and use the parameters option.\n",
        "\n",
        "To see how this really works in practice, let's dive into an example.\n"
      ]
    },
    {
      "metadata": {
        "id": "cNY3xBY4zt4D",
        "colab_type": "text"
      },
      "cell_type": "markdown",
      "source": [
        "## How to find Instrument Information needed to use the API?\n",
        "Note, in order to use the OOI API, you will need to know the various OOI codes or IDs to make a request.  Many of these are available in the [OOI Data Portal](https://ooinet.oceanobservatories.org), but you may find the [Data Team portal](http://ooi.visualocean.net) helpful.\n",
        "\n",
        "For the instrument in this example, you will need the following to make the request to the M2M API.\n",
        "* the 3 parts of the Reference Designator\n",
        "* the stream name, and\n",
        "* the data delivery method\n",
        "\n",
        "More information about this instrument can be found here:\n",
        "http://ooi.visualocean.net/instruments/view/GP03FLMB-RIM01-02-CTDMOG060\n"
      ]
    },
    {
      "metadata": {
        "id": "geDHfmsgaNUe",
        "colab_type": "text",
        "slideshow": {
          "slide_type": "slide"
        }
      },
      "cell_type": "markdown",
      "source": [
        "# Instrument Vocabulary\n",
        "We can use the **Vocabulary API endpoint** to convert a given reference designator for an instrument into its descriptive names."
      ]
    },
    {
      "metadata": {
        "id": "83f7J3TIZW8T",
        "colab_type": "code",
        "slideshow": {
          "slide_type": "slide"
        },
        "colab": {
          "autoexec": {
            "startup": false,
            "wait_interval": 0
          },
          "base_uri": "https://localhost:8080/",
          "height": 215
        },
        "outputId": "1432a4cb-1bba-4912-a035-1845470d33a0",
        "executionInfo": {
          "status": "ok",
          "timestamp": 1529033591260,
          "user_tz": 240,
          "elapsed": 593,
          "user": {
            "displayName": "Sage Lichtenwalner",
            "photoUrl": "https://lh3.googleusercontent.com/a/default-user=s128",
            "userId": "107661401208389246829"
          }
        }
      },
      "cell_type": "code",
      "source": [
        "# Instrument Information\n",
        "site = 'GP03FLMB'\n",
        "node = 'RIM01'\n",
        "instrument = '02-CTDMOG060'\n",
        "\n",
        "VOCAB_BASE_URL = 'https://ooinet.oceanobservatories.org/api/m2m/12586/vocab/inv'\n",
        "\n",
        "# Create the request URL (3 different ways)\n",
        "# request_url = VOCAB_BASE_URL + '/'+site+'/'+ node+'/'+instrument # Good\n",
        "# request_url = \"%s/%s/%s/%s\" % (VOCAB_BASE_URL,site,node,instrument) # Better\n",
        "request_url ='/'.join((VOCAB_BASE_URL,site,node,instrument)) # Python wizard best\n",
        "\n",
        "# Retrieve vocabulary information for a given instrument\n",
        "r = requests.get(request_url, auth=(USERNAME, TOKEN))\n",
        "data = r.json()\n",
        "\n",
        "data"
      ],
      "execution_count": 4,
      "outputs": [
        {
          "output_type": "execute_result",
          "data": {
            "text/plain": [
              "[{u'@class': u'.VocabRecord',\n",
              "  u'instrument': u'CTD (30 meters)',\n",
              "  u'manufacturer': u'Sea-Bird',\n",
              "  u'maxdepth': 30.0,\n",
              "  u'mindepth': 30.0,\n",
              "  u'model': u'SBE 37IM',\n",
              "  u'refdes': u'GP03FLMB-RIM01-02-CTDMOG060',\n",
              "  u'tocL1': u'Global Station Papa',\n",
              "  u'tocL2': u'Flanking Subsurface Mooring B',\n",
              "  u'tocL3': u'Mooring Riser',\n",
              "  u'vocabId': 1098}]"
            ]
          },
          "metadata": {
            "tags": []
          },
          "execution_count": 4
        }
      ]
    },
    {
      "metadata": {
        "id": "7ho162OS32Jm",
        "colab_type": "code",
        "colab": {
          "autoexec": {
            "startup": false,
            "wait_interval": 0
          },
          "base_uri": "https://localhost:8080/",
          "height": 35
        },
        "outputId": "bdde81f0-4e70-4299-e523-d78cf10c0dce",
        "executionInfo": {
          "status": "ok",
          "timestamp": 1529033592155,
          "user_tz": 240,
          "elapsed": 277,
          "user": {
            "displayName": "Sage Lichtenwalner",
            "photoUrl": "https://lh3.googleusercontent.com/a/default-user=s128",
            "userId": "107661401208389246829"
          }
        }
      },
      "cell_type": "code",
      "source": [
        "print(\"%s, %s, %s\" % (data[0]['tocL1'],data[0]['tocL2'],data[0]['instrument']))"
      ],
      "execution_count": 5,
      "outputs": [
        {
          "output_type": "stream",
          "text": [
            "Global Station Papa, Flanking Subsurface Mooring B, CTD (30 meters)\n"
          ],
          "name": "stdout"
        }
      ]
    },
    {
      "metadata": {
        "id": "aWsECwQdVXkc",
        "colab_type": "text",
        "slideshow": {
          "slide_type": "slide"
        }
      },
      "cell_type": "markdown",
      "source": [
        "# Asynchnorous Data Requests "
      ]
    },
    {
      "metadata": {
        "id": "GOVjL9VMbDSn",
        "colab_type": "text",
        "slideshow": {
          "slide_type": "slide"
        }
      },
      "cell_type": "markdown",
      "source": [
        "The OOI provides 2 ways to access OOI data.\n",
        "\n",
        "* **Synchronous** requests are great when you just want to grab a little bit of data quickly. Thus, it is very useful for applications like interactive graphs on a web site.\n",
        "* **Asynchronous** requests are if you want a larger and more complete dataset, which take longer to process, sometimes up to an hour or more depending on how much data you are requesting and what else the system is doing.  The end result is a web accessible directory of NetCDF data files."
      ]
    },
    {
      "metadata": {
        "id": "YOACzEl56nOR",
        "colab_type": "text"
      },
      "cell_type": "markdown",
      "source": [
        "\n",
        "| | Synchronous requests | Asynchronous requests |\n",
        "| -- | -- |\n",
        "| **Response Time** | Seconds | Minutes to hours |\n",
        "|**Data Resolution** | Up to 20k points | Full resolution |\n",
        "| **Data Format** | JSON | Downloadable NetCDF or CSV (not recommended) |\n",
        "| **Advantages** | Good for interactive web graphs and quick look plots | Good for data analysis, data available via web server (temporarily) |\n",
        "| **Disadvantages** | low resolution, need to parse JSON array | Can take time to process, files can be large |\n",
        "\n",
        "\n"
      ]
    },
    {
      "metadata": {
        "id": "pNwR21SZ6oDf",
        "colab_type": "text"
      },
      "cell_type": "markdown",
      "source": [
        "Making asynchronous requests through the API  is essentially the same as requesting a download from the OOI Data Portal, but with the API you can easily create one or more requests in an automated way.\n",
        "\n",
        "To make a data request, we basically construct a URL using the reference designator, delivery method, stream name and other parameters.  The URL is constructed using the following format:\n",
        "> /sensor/inv/{subsite}/{node}/{sensor}/{method}/{stream}\n",
        "\n",
        "In order to make the code clear, we're going to setup several variables and then use the **join()** function to concatenate all of the variables together with slashes.\n",
        "\n",
        "We can also specify a number of additional optionals using the **params** array. \n",
        "* We are also going to specify a start (**beginDT**) and ending date/time (**endDT**) for our request.\n",
        "* By default, asynchronous requests will return NetCDF files, but you could also specify csv or json, using the **format** option.  \n",
        "* Optionally, you can also specify **include_provenance** and **include_annotations** which will include separate text files in the output directory with that information."
      ]
    },
    {
      "metadata": {
        "id": "oyzMSXg6bDAt",
        "colab_type": "code",
        "slideshow": {
          "slide_type": "slide"
        },
        "colab": {
          "autoexec": {
            "startup": false,
            "wait_interval": 0
          }
        }
      },
      "cell_type": "code",
      "source": [
        "# Instrument Information\n",
        "site = 'GP03FLMB'\n",
        "node = 'RIM01'\n",
        "instrument = '02-CTDMOG060'\n",
        "method = 'recovered_inst'\n",
        "stream = 'ctdmo_ghqr_instrument_recovered'\n",
        "\n",
        "SENSOR_BASE_URL = 'https://ooinet.oceanobservatories.org/api/m2m/12576/sensor/inv/'\n",
        "\n",
        "# Create the request URL\n",
        "data_request_url ='/'.join((SENSOR_BASE_URL,site,node,instrument,method,stream))\n",
        "\n",
        "# All of the following are optional\n",
        "params = {\n",
        "  'beginDT':'2015-07-01T00:00:00.000Z',\n",
        "  'endDT':'2017-07-01T00:00:00.000Z',\n",
        "  'format':'application/netcdf',\n",
        "  'include_provenance':'true',\n",
        "  'include_annotations':'true'\n",
        "}\n"
      ],
      "execution_count": 0,
      "outputs": []
    },
    {
      "metadata": {
        "id": "XRe-uYUokBV3",
        "colab_type": "text",
        "slideshow": {
          "slide_type": "slide"
        }
      },
      "cell_type": "markdown",
      "source": [
        "Now let's send the request.  (Note, these lines are commented out, to prevent accidental resubmission when running through the entire notebook quickly.)"
      ]
    },
    {
      "metadata": {
        "id": "01iDPEtei1rG",
        "colab_type": "code",
        "colab": {
          "autoexec": {
            "startup": false,
            "wait_interval": 0
          }
        }
      },
      "cell_type": "code",
      "source": [
        "# r = requests.get(data_request_url, params=params, auth=(USERNAME, TOKEN))\n",
        "# data = r.json()"
      ],
      "execution_count": 0,
      "outputs": []
    },
    {
      "metadata": {
        "id": "rUTunB3mkk56",
        "colab_type": "text",
        "slideshow": {
          "slide_type": "slide"
        }
      },
      "cell_type": "markdown",
      "source": [
        "While the Synchronous request will return an array of actual data, when making an asynchronous request, we will just get some URLs and some other metadata about our request."
      ]
    },
    {
      "metadata": {
        "id": "zWcFn629j3W9",
        "colab_type": "code",
        "colab": {
          "autoexec": {
            "startup": false,
            "wait_interval": 0
          },
          "base_uri": "https://localhost:8080/",
          "height": 168
        },
        "outputId": "d1745383-a656-47e7-d442-6b0e867cf5f3",
        "executionInfo": {
          "status": "ok",
          "timestamp": 1529033614038,
          "user_tz": 240,
          "elapsed": 296,
          "user": {
            "displayName": "Sage Lichtenwalner",
            "photoUrl": "https://lh3.googleusercontent.com/a/default-user=s128",
            "userId": "107661401208389246829"
          }
        }
      },
      "cell_type": "code",
      "source": [
        "data"
      ],
      "execution_count": 8,
      "outputs": [
        {
          "output_type": "execute_result",
          "data": {
            "text/plain": [
              "{u'allURLs': [u'https://opendap.oceanobservatories.org/thredds/catalog/ooi/ooidatateam@gmail.com/20180615T033324-GP03FLMB-RIM01-02-CTDMOG060-recovered_inst-ctdmo_ghqr_instrument_recovered/catalog.html',\n",
              "  u'https://opendap.oceanobservatories.org/async_results/ooidatateam@gmail.com/20180615T033324-GP03FLMB-RIM01-02-CTDMOG060-recovered_inst-ctdmo_ghqr_instrument_recovered'],\n",
              " u'numberOfSubJobs': 27,\n",
              " u'outputURL': u'https://opendap.oceanobservatories.org/thredds/catalog/ooi/ooidatateam@gmail.com/20180615T033324-GP03FLMB-RIM01-02-CTDMOG060-recovered_inst-ctdmo_ghqr_instrument_recovered/catalog.html',\n",
              " u'requestUUID': u'749ca89e-b6ae-4e8a-82fd-2cff349f4186',\n",
              " u'sizeCalculation': 4526806,\n",
              " u'timeCalculation': 60}"
            ]
          },
          "metadata": {
            "tags": []
          },
          "execution_count": 8
        }
      ]
    },
    {
      "metadata": {
        "id": "mehVLJmd8s7F",
        "colab_type": "text"
      },
      "cell_type": "markdown",
      "source": [
        "## Which data URL should I use?"
      ]
    },
    {
      "metadata": {
        "id": "V0IQHzLJkL14",
        "colab_type": "text",
        "slideshow": {
          "slide_type": "slide"
        }
      },
      "cell_type": "markdown",
      "source": [
        "The **first** URL in the **allURLs** key points to the THREDDS server, which allows for programmatic data access without downloading the entire file."
      ]
    },
    {
      "metadata": {
        "id": "feUc368ekL_o",
        "colab_type": "code",
        "colab": {
          "autoexec": {
            "startup": false,
            "wait_interval": 0
          },
          "base_uri": "https://localhost:8080/",
          "height": 60
        },
        "outputId": "4c9a90dd-31c9-42ff-fd03-1bbd640af7e3",
        "executionInfo": {
          "status": "ok",
          "timestamp": 1529033616895,
          "user_tz": 240,
          "elapsed": 378,
          "user": {
            "displayName": "Sage Lichtenwalner",
            "photoUrl": "https://lh3.googleusercontent.com/a/default-user=s128",
            "userId": "107661401208389246829"
          }
        }
      },
      "cell_type": "code",
      "source": [
        "print(data['allURLs'][0])"
      ],
      "execution_count": 9,
      "outputs": [
        {
          "output_type": "stream",
          "text": [
            "https://opendap.oceanobservatories.org/thredds/catalog/ooi/ooidatateam@gmail.com/20180615T033324-GP03FLMB-RIM01-02-CTDMOG060-recovered_inst-ctdmo_ghqr_instrument_recovered/catalog.html\n"
          ],
          "name": "stdout"
        }
      ]
    },
    {
      "metadata": {
        "id": "GftevvEbkSu8",
        "colab_type": "text",
        "slideshow": {
          "slide_type": "slide"
        }
      },
      "cell_type": "markdown",
      "source": [
        "The **second** URL in the **allURLs** key provides a direct link to a web server which you can use to quickly download files if you don't want to go through THREDDS."
      ]
    },
    {
      "metadata": {
        "id": "5EnjDDeZkTI6",
        "colab_type": "code",
        "colab": {
          "autoexec": {
            "startup": false,
            "wait_interval": 0
          },
          "base_uri": "https://localhost:8080/",
          "height": 60
        },
        "outputId": "1fc11813-bc98-4132-bb72-8b38e4b539ab",
        "executionInfo": {
          "status": "ok",
          "timestamp": 1529033619394,
          "user_tz": 240,
          "elapsed": 281,
          "user": {
            "displayName": "Sage Lichtenwalner",
            "photoUrl": "https://lh3.googleusercontent.com/a/default-user=s128",
            "userId": "107661401208389246829"
          }
        }
      },
      "cell_type": "code",
      "source": [
        "print(data['allURLs'][1])"
      ],
      "execution_count": 10,
      "outputs": [
        {
          "output_type": "stream",
          "text": [
            "https://opendap.oceanobservatories.org/async_results/ooidatateam@gmail.com/20180615T033324-GP03FLMB-RIM01-02-CTDMOG060-recovered_inst-ctdmo_ghqr_instrument_recovered\n"
          ],
          "name": "stdout"
        }
      ]
    },
    {
      "metadata": {
        "id": "wwn6ymX3lVtx",
        "colab_type": "text",
        "slideshow": {
          "slide_type": "slide"
        }
      },
      "cell_type": "markdown",
      "source": [
        "## How can you check when a request is complete?"
      ]
    },
    {
      "metadata": {
        "id": "picCpGK0lCTg",
        "colab_type": "text"
      },
      "cell_type": "markdown",
      "source": [
        "We can use the second URL to check if a status.txt file has been written to the location. If true, then the request has completed and all data have been delivered to the THREDDS server.\n",
        "\n",
        "The following for loop will poll the location for the status.txt files 1000 times, once every second. Therefore, it will quit after about 16.6 minutes. If you are requesting a very large and dense dataset (for example, 3 years of BOTPT data collected at 20 Hz), it may take a bit longer to complete the request, so you will want to bump up the retry range or lower the sleep interval."
      ]
    },
    {
      "metadata": {
        "id": "7ngZeFgLmPDl",
        "colab_type": "code",
        "slideshow": {
          "slide_type": "slide"
        },
        "colab": {
          "autoexec": {
            "startup": false,
            "wait_interval": 0
          },
          "base_uri": "https://localhost:8080/",
          "height": 71
        },
        "outputId": "fb36963d-43b9-489d-f51d-569f60b39197",
        "executionInfo": {
          "status": "ok",
          "timestamp": 1529033681950,
          "user_tz": 240,
          "elapsed": 60803,
          "user": {
            "displayName": "Sage Lichtenwalner",
            "photoUrl": "https://lh3.googleusercontent.com/a/default-user=s128",
            "userId": "107661401208389246829"
          }
        }
      },
      "cell_type": "code",
      "source": [
        "%%time\n",
        "check_complete = data['allURLs'][1] + '/status.txt'\n",
        "for i in range(1000): \n",
        "    r = requests.get(check_complete)\n",
        "    if r.status_code == requests.codes.ok:\n",
        "        print('request completed')\n",
        "        break\n",
        "    else:\n",
        "        time.sleep(1)"
      ],
      "execution_count": 11,
      "outputs": [
        {
          "output_type": "stream",
          "text": [
            "request completed\n",
            "CPU times: user 532 ms, sys: 34 ms, total: 566 ms\n",
            "Wall time: 1min\n"
          ],
          "name": "stdout"
        }
      ]
    },
    {
      "metadata": {
        "id": "3mz8-PYO9qmz",
        "colab_type": "text"
      },
      "cell_type": "markdown",
      "source": [
        "# Next Steps\n",
        "\n",
        "In this example we made an asynchronous data request, received a URL where the data will be available when it is ready.\n",
        "\n",
        "Once the dataset has finished processing, we can download the resulting NetCDF files and start playing with the data, which we will cover in Example 2.\n",
        "\n",
        "You can also use [NASA's Panoply](https://www.giss.nasa.gov/tools/panoply/) software to open the NetCDF files on your machine.  This is a great tool to peruse the metadata and make some quick plots."
      ]
    }
  ]
}