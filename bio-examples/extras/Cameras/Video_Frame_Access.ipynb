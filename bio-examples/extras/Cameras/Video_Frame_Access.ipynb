{
 "cells": [
  {
   "cell_type": "markdown",
   "metadata": {},
   "source": [
    "# Video Frame Access\n",
    "\n",
    "Original Author: Tim Crone  \n",
    "Adapted from https://github.com/tjcrone/rte-camhd/blob/master/tim/image_sliders.ipynb  \n",
    "    \n",
    "Example of using widgets to interact with frame grabs from the OOI HD video camera at ASHES Hydrothermal Vent. There are over 100 TB of video data captured on the raw archive to date. This notebook provides access to frames within each video file, directly over the web and without the need to download a local copy. This technique opens the door to [rapid image analysis](https://github.com/tjcrone/rte-camhd/blob/master/tim/floc.ipynb) and scientific discovery. "
   ]
  },
  {
   "cell_type": "markdown",
   "metadata": {},
   "source": [
    "#### Import your libraries and set up the environment"
   ]
  },
  {
   "cell_type": "code",
   "execution_count": 1,
   "metadata": {},
   "outputs": [],
   "source": [
    "%matplotlib inline\n",
    "%config InlineBackend.figure_format = 'svg'\n",
    "import pycamhd as camhd\n",
    "import numpy as np\n",
    "import pandas as pd\n",
    "import matplotlib.pyplot as plt"
   ]
  },
  {
   "cell_type": "markdown",
   "metadata": {},
   "source": [
    "#### Get a list of remote CamHD files to process"
   ]
  },
  {
   "cell_type": "code",
   "execution_count": 2,
   "metadata": {},
   "outputs": [
    {
     "data": {
      "text/html": [
       "<div>\n",
       "<style scoped>\n",
       "    .dataframe tbody tr th:only-of-type {\n",
       "        vertical-align: middle;\n",
       "    }\n",
       "\n",
       "    .dataframe tbody tr th {\n",
       "        vertical-align: top;\n",
       "    }\n",
       "\n",
       "    .dataframe thead th {\n",
       "        text-align: right;\n",
       "    }\n",
       "</style>\n",
       "<table border=\"1\" class=\"dataframe\">\n",
       "  <thead>\n",
       "    <tr style=\"text-align: right;\">\n",
       "      <th></th>\n",
       "      <th>deployment</th>\n",
       "      <th>filename</th>\n",
       "      <th>filesize</th>\n",
       "      <th>frame_count</th>\n",
       "      <th>moov</th>\n",
       "      <th>timestamp</th>\n",
       "    </tr>\n",
       "  </thead>\n",
       "  <tbody>\n",
       "    <tr>\n",
       "      <th>8423</th>\n",
       "      <td>4</td>\n",
       "      <td>https://rawdata.oceanobservatories.org/files/R...</td>\n",
       "      <td>596503857</td>\n",
       "      <td>26981</td>\n",
       "      <td>True</td>\n",
       "      <td>1522627201</td>\n",
       "    </tr>\n",
       "    <tr>\n",
       "      <th>8424</th>\n",
       "      <td>4</td>\n",
       "      <td>https://rawdata.oceanobservatories.org/files/R...</td>\n",
       "      <td>595973297</td>\n",
       "      <td>26957</td>\n",
       "      <td>True</td>\n",
       "      <td>1522638002</td>\n",
       "    </tr>\n",
       "    <tr>\n",
       "      <th>8425</th>\n",
       "      <td>4</td>\n",
       "      <td>https://rawdata.oceanobservatories.org/files/R...</td>\n",
       "      <td>596481805</td>\n",
       "      <td>26980</td>\n",
       "      <td>True</td>\n",
       "      <td>1522648801</td>\n",
       "    </tr>\n",
       "    <tr>\n",
       "      <th>8426</th>\n",
       "      <td>4</td>\n",
       "      <td>https://rawdata.oceanobservatories.org/files/R...</td>\n",
       "      <td>596459753</td>\n",
       "      <td>26979</td>\n",
       "      <td>True</td>\n",
       "      <td>1522659601</td>\n",
       "    </tr>\n",
       "    <tr>\n",
       "      <th>8427</th>\n",
       "      <td>4</td>\n",
       "      <td>https://rawdata.oceanobservatories.org/files/R...</td>\n",
       "      <td>595840657</td>\n",
       "      <td>26951</td>\n",
       "      <td>True</td>\n",
       "      <td>1522670402</td>\n",
       "    </tr>\n",
       "  </tbody>\n",
       "</table>\n",
       "</div>"
      ],
      "text/plain": [
       "      deployment                                           filename  \\\n",
       "8423           4  https://rawdata.oceanobservatories.org/files/R...   \n",
       "8424           4  https://rawdata.oceanobservatories.org/files/R...   \n",
       "8425           4  https://rawdata.oceanobservatories.org/files/R...   \n",
       "8426           4  https://rawdata.oceanobservatories.org/files/R...   \n",
       "8427           4  https://rawdata.oceanobservatories.org/files/R...   \n",
       "\n",
       "       filesize  frame_count  moov   timestamp  \n",
       "8423  596503857        26981  True  1522627201  \n",
       "8424  595973297        26957  True  1522638002  \n",
       "8425  596481805        26980  True  1522648801  \n",
       "8426  596459753        26979  True  1522659601  \n",
       "8427  595840657        26951  True  1522670402  "
      ]
     },
     "execution_count": 2,
     "metadata": {},
     "output_type": "execute_result"
    }
   ],
   "source": [
    "db_url = 'https://raw.githubusercontent.com/tjcrone/rte-camhd/master/tim/dbcamhd.json'\n",
    "dbcamhd = pd.read_json(db_url, orient=\"records\", lines=True)\n",
    "dbcamhd.tail()"
   ]
  },
  {
   "cell_type": "code",
   "execution_count": 3,
   "metadata": {},
   "outputs": [
    {
     "name": "stdout",
     "output_type": "stream",
     "text": [
      "Total files: 8428\n",
      "Total frames: 227632424\n"
     ]
    }
   ],
   "source": [
    "print(\"Total files: %i\" % len(dbcamhd))\n",
    "print(\"Total frames: %i\" % dbcamhd.frame_count.sum())"
   ]
  },
  {
   "cell_type": "code",
   "execution_count": 4,
   "metadata": {},
   "outputs": [
    {
     "data": {
      "text/plain": [
       "'https://rawdata.oceanobservatories.org/files/RS03ASHS/PN03B/06-CAMHDA301/2015/11/19/CAMHDA301-20151119T210000Z.mov'"
      ]
     },
     "execution_count": 4,
     "metadata": {},
     "output_type": "execute_result"
    }
   ],
   "source": [
    "filenames = list(dbcamhd.filename[(dbcamhd.deployment == 2) & (dbcamhd.frame_count > 5000) & (dbcamhd.frame_count < 30000)])\n",
    "filenames.sort()\n",
    "filenames[0]"
   ]
  },
  {
   "cell_type": "markdown",
   "metadata": {},
   "source": [
    "#### Set up plotting function"
   ]
  },
  {
   "cell_type": "code",
   "execution_count": 5,
   "metadata": {},
   "outputs": [],
   "source": [
    "def show_image(file_number, frame_number):\n",
    "    filename = filenames[file_number]\n",
    "    plt.rc('figure', figsize=(10, 5))\n",
    "    plt.rcParams.update({'font.size': 8})\n",
    "    frame = camhd.get_frame(filename, frame_number, 'rgb24')\n",
    "    fig, ax = plt.subplots();\n",
    "    im1 = ax.imshow(frame);\n",
    "    plt.yticks(np.arange(0,1081,270))\n",
    "    plt.xticks(np.arange(0,1921,480))\n",
    "    plt.title('%s %s' % (filename[84:], frame_number));"
   ]
  },
  {
   "cell_type": "markdown",
   "metadata": {},
   "source": [
    "#### Interact using ipywidgets"
   ]
  },
  {
   "cell_type": "code",
   "execution_count": 6,
   "metadata": {},
   "outputs": [
    {
     "data": {
      "application/vnd.jupyter.widget-view+json": {
       "model_id": "49d909ccefb0437d8fc89ae41ee303d8",
       "version_major": 2,
       "version_minor": 0
      },
      "text/plain": [
       "interactive(children=(IntSlider(value=0, continuous_update=False, description='file_number', max=1884), IntSli…"
      ]
     },
     "metadata": {},
     "output_type": "display_data"
    }
   ],
   "source": [
    "from ipywidgets import interact\n",
    "from ipywidgets import IntSlider\n",
    "file_slider = IntSlider(min=0, max=len(filenames)-1, step=1, value=0, continuous_update=False)\n",
    "frame_slider = IntSlider(min=0, max=camhd.get_frame_count(filenames[0]), step=1, value=0, continuous_update=False)\n",
    "\n",
    "def update_range(*args):\n",
    "    frame_slider.max = camhd.get_frame_count(filenames[file_slider.value])-1\n",
    "    if frame_slider.value > frame_slider.max:\n",
    "        frame_slider.value = frame_slider.max\n",
    "file_slider.observe(update_range, 'value')\n",
    "\n",
    "interact(show_image, file_number=file_slider, frame_number=frame_slider);"
   ]
  },
  {
   "cell_type": "markdown",
   "metadata": {},
   "source": [
    "### References  \n",
    "- [PyCamHD](https://github.com/tjcrone/pycamhd)  \n",
    "- [CamHD Raw Data Archive](https://rawdata.oceanobservatories.org/files/RS03ASHS/PN03B/06-CAMHDA301)  \n",
    "- [ipywidgets](https://ipywidgets.readthedocs.io/en/latest/)  "
   ]
  },
  {
   "cell_type": "code",
   "execution_count": null,
   "metadata": {},
   "outputs": [],
   "source": []
  }
 ],
 "metadata": {
  "kernelspec": {
   "display_name": "Python 3",
   "language": "python",
   "name": "python3"
  },
  "language_info": {
   "codemirror_mode": {
    "name": "ipython",
    "version": 3
   },
   "file_extension": ".py",
   "mimetype": "text/x-python",
   "name": "python",
   "nbconvert_exporter": "python",
   "pygments_lexer": "ipython3",
   "version": "3.6.5"
  }
 },
 "nbformat": 4,
 "nbformat_minor": 2
}
